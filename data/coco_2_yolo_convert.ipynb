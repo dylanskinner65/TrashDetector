{
 "cells": [
  {
   "cell_type": "code",
   "execution_count": 111,
   "metadata": {},
   "outputs": [],
   "source": [
    "import json\n",
    "import matplotlib.pyplot as plt\n",
    "import matplotlib.image as mpimg\n",
    "from pycocotools.coco import COCO\n",
    "import pandas as pd\n",
    "from tqdm import tqdm\n",
    "import shutil"
   ]
  },
  {
   "cell_type": "code",
   "execution_count": 52,
   "metadata": {},
   "outputs": [
    {
     "name": "stdout",
     "output_type": "stream",
     "text": [
      "loading annotations into memory...\n",
      "Done (t=0.06s)\n",
      "creating index...\n",
      "index created!\n"
     ]
    }
   ],
   "source": [
    "# Initialize COCO API for instance annotations\n",
    "data_source = COCO('annotations.json')"
   ]
  },
  {
   "cell_type": "code",
   "execution_count": null,
   "metadata": {},
   "outputs": [],
   "source": [
    "# Get the category names and id's from the annotations\n",
    "cat_ids = data_source.getCatIds()  # Retrieve category IDs\n",
    "cat_names = [cat['name'] for cat in data_source.loadCats(cat_ids)]  # Extract category names\n",
    "\n",
    "\n",
    "# Define lists of items for trash and recycling\n",
    "trash_list = ['Battery', 'Broken glass', 'Other plastic', 'Food waste', 'Unlabeled litter', 'Cigarette', 'Shoe', 'Styrofoam piece']\n",
    "recycle_list = ['Aluminium foil', 'Aluminium blister pack', 'Carded blister pack', 'Other plastic bottle', 'Clear plastic bottle', 'Glass bottle', 'Plastic bottle cap', 'Metal bottle cap', 'Food Can', 'Aerosol', 'Drink can', 'Toilet tube', 'Other carton', 'Egg carton', 'Drink carton', 'Corrugated carton', 'Meal carton', 'Pizza box', 'Paper cup', 'Disposable plastic cup', 'Foam cup', 'Glass cup', 'Other plastic cup', 'Glass jar', 'Plastic lid', 'Metal lid', 'Magazine paper', 'Tissues', 'Wrapping paper', 'Normal paper', 'Paper bag', 'Plastified paper bag', 'Plastic film', 'Six pack rings', 'Garbage bag', 'Other plastic wrapper', 'Single-use carrier bag', 'Polypropylene bag', 'Crisp packet', 'Spread tub', 'Tupperware', 'Disposable food container', 'Foam food container', 'Other plastic container', 'Plastic glooves', 'Plastic utensils', 'Pop tab', 'Rope & strings', 'Scrap metal', 'Squeezable tube', 'Plastic straw', 'Paper straw']\n",
    "\n",
    "\n",
    "# Get all of the categories and their ids as a dictionary\n",
    "cat_ids = data_source.getCatIds()  # Retrieve category IDs\n",
    "cat_names = [cat['name'] for cat in data_source.loadCats(cat_ids)]  # Extract category names\n",
    "cat_dict = dict(zip(cat_ids, cat_names))  # Create dictionary mapping category IDs to names\n",
    "cat_dict = pd.DataFrame.from_dict(cat_dict, orient='index', columns=['category'])  # Convert dictionary to DataFrame for easier manipulation\n",
    "\n",
    "\n",
    "# If the category is in the trash list, label it as trash\n",
    "cat_dict['label'] = 1  # Initially label all categories as recyclable\n",
    "cat_dict.loc[cat_dict['category'].isin(trash_list), 'label'] = 0  # Change label to 0 for categories in the trash list\n",
    "\n",
    "\n",
    "# Get the index and label as a dictionary\n",
    "c = dict(zip(cat_dict.index, cat_dict.label))  # Create dictionary mapping category indices to their corresponding labels\n",
    "c"
   ]
  },
  {
   "cell_type": "code",
   "execution_count": null,
   "metadata": {},
   "outputs": [],
   "source": [
    "# Load annotations from JSON file using COCO API\n",
    "data_source = COCO('annotations.json')\n",
    "\n",
    "# Get image IDs\n",
    "img_ids = data_source.getImgIds()\n",
    "\n",
    "# Define the base path to save label files\n",
    "save_base_path = 'labels/'\n",
    "\n",
    "# Loop through each image ID and process annotations\n",
    "for index, img_id in tqdm(enumerate(img_ids), desc='change .json file to .txt file'):\n",
    "    # Load image information\n",
    "    img_info = data_source.loadImgs(img_id)[0]\n",
    "    img_name = img_info['file_name'] \n",
    "    save_name = img_info['file_name'].replace('/', '_')\n",
    "    file_name = save_name.split('.')[0]\n",
    "    height = img_info['height']\n",
    "    width = img_info['width']\n",
    "    \n",
    "    # Define the path to save the label file\n",
    "    save_path = save_base_path + file_name + '.txt'\n",
    "    is_exist = False\n",
    "    \n",
    "    # Open the label file for writing\n",
    "    with open(save_path, 'w+') as fp:\n",
    "        # Get annotation IDs for the current image\n",
    "        annotation_id = data_source.getAnnIds(img_id)\n",
    "        \n",
    "        # Load annotations\n",
    "        annotations = data_source.loadAnns(annotation_id)\n",
    "        \n",
    "        # Initialize string to store annotation lines\n",
    "        lines = ''\n",
    "        \n",
    "        # Iterate through annotations\n",
    "        for annotation in annotations:\n",
    "            is_exist = True\n",
    "            box = annotation['bbox']\n",
    "            \n",
    "            # Skip annotations with invalid bounding boxes\n",
    "            if box[2] < 1 or box[3] < 1:\n",
    "                continue\n",
    "            \n",
    "            # Convert bounding box coordinates to relative values\n",
    "            box[0] = round((box[0] + box[2] / 2) / width, 6)\n",
    "            box[1] = round((box[1] + box[3] / 2) / height, 6)\n",
    "            box[2] = round(box[2] / width, 6)\n",
    "            box[3] = round(box[3] / height, 6)\n",
    "            \n",
    "            # Construct annotation line with label and bounding box coordinates\n",
    "            lines = lines + str(c[annotation['category_id']])\n",
    "            for i in box:\n",
    "                lines += ' ' + str(i)\n",
    "            lines += '\\n'\n",
    "        \n",
    "        # Write annotation lines to the label file\n",
    "        fp.writelines(lines)"
   ]
  },
  {
   "cell_type": "code",
   "execution_count": 113,
   "metadata": {},
   "outputs": [
    {
     "name": "stdout",
     "output_type": "stream",
     "text": [
      "Finished moving images from batch_2/ to images/\n",
      "Finished moving images from batch_3/ to images/\n",
      "Finished moving images from batch_4/ to images/\n",
      "Finished moving images from batch_5/ to images/\n",
      "Finished moving images from batch_6/ to images/\n",
      "Finished moving images from batch_7/ to images/\n",
      "Finished moving images from batch_8/ to images/\n",
      "Finished moving images from batch_9/ to images/\n",
      "Finished moving images from batch_10/ to images/\n",
      "Finished moving images from batch_11/ to images/\n",
      "Finished moving images from batch_12/ to images/\n",
      "Finished moving images from batch_13/ to images/\n",
      "Finished moving images from batch_14/ to images/\n",
      "Finished moving images from batch_15/ to images/\n"
     ]
    }
   ],
   "source": [
    "# Rename and move the images to the correct folder\n",
    "import os\n",
    "\n",
    "# Define the base path to save and read images\n",
    "save_base_path = 'images/'\n",
    "read_base_paths = [f'batch_{i}/' for i in range(2,16)]\n",
    "\n",
    "# Loop through each folder\n",
    "for read_base_path in read_base_paths:\n",
    "# Get the list of image names\n",
    "    img_names = os.listdir(read_base_path)\n",
    "    \n",
    "    # Loop through each image and move it to the new folder\n",
    "    for img_name in img_names:\n",
    "        # Define the path to read the image\n",
    "        read_path = f'{read_base_path}{img_name}'\n",
    "        \n",
    "        # Move the image to the new folder\n",
    "        shutil.move(read_path, f\"{save_base_path}/{img_name}\")\n",
    "        \n",
    "        # Rename the file (optional)\n",
    "        # print(read_path)\n",
    "        new_filename = read_path.split('/')\n",
    "        new_filename = f'{new_filename[0]}_{new_filename[1]}'\n",
    "        \n",
    "        os.rename(f\"{save_base_path}/{img_name}\", f'images/{new_filename}')\n",
    "    print(f'Finished moving images from {read_base_path} to {save_base_path}')"
   ]
  }
 ],
 "metadata": {
  "kernelspec": {
   "display_name": "acme1",
   "language": "python",
   "name": "python3"
  },
  "language_info": {
   "codemirror_mode": {
    "name": "ipython",
    "version": 3
   },
   "file_extension": ".py",
   "mimetype": "text/x-python",
   "name": "python",
   "nbconvert_exporter": "python",
   "pygments_lexer": "ipython3",
   "version": "3.7.16"
  }
 },
 "nbformat": 4,
 "nbformat_minor": 2
}
